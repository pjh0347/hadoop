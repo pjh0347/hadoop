{
 "cells": [
  {
   "cell_type": "markdown",
   "metadata": {},
   "source": [
    "# Web Log Anomaly Detection using Spark"
   ]
  },
  {
   "cell_type": "markdown",
   "metadata": {},
   "source": [
    "Import modules"
   ]
  },
  {
   "cell_type": "code",
   "execution_count": 1,
   "metadata": {
    "collapsed": true
   },
   "outputs": [],
   "source": [
    "from pyspark.sql import SparkSession\n",
    "import matplotlib.pyplot as plt\n",
    "import pandas as pd\n",
    "import numpy as np\n",
    "%matplotlib inline"
   ]
  },
  {
   "cell_type": "markdown",
   "metadata": {},
   "source": [
    "Getting spark session"
   ]
  },
  {
   "cell_type": "code",
   "execution_count": 2,
   "metadata": {
    "collapsed": true
   },
   "outputs": [],
   "source": [
    "spark = SparkSession.builder \\\n",
    "                    .master(\"spark://node-201:7077\") \\\n",
    "                    .appName(\"Web Log Anomaly Detection using Spark\") \\\n",
    "                    .config(\"spark.submit.deployMode\", \"client\") \\\n",
    "                    .config(\"spark.executor.instances\", \"4\") \\\n",
    "                    .config(\"spark.executor.memory\", \"8g\") \\\n",
    "                    .config(\"spark.executor.cores\", \"8\") \\\n",
    "                    .enableHiveSupport() \\\n",
    "                    .getOrCreate()"
   ]
  },
  {
   "cell_type": "markdown",
   "metadata": {},
   "source": [
    "Getting spark context"
   ]
  },
  {
   "cell_type": "code",
   "execution_count": 3,
   "metadata": {
    "collapsed": true
   },
   "outputs": [],
   "source": [
    "sc = spark.sparkContext"
   ]
  },
  {
   "cell_type": "markdown",
   "metadata": {},
   "source": [
    "Apache Access Log Parser"
   ]
  },
  {
   "cell_type": "code",
   "execution_count": 4,
   "metadata": {
    "collapsed": true
   },
   "outputs": [],
   "source": [
    "import re\n",
    "from dateutil import parser\n",
    "from pyspark.sql import Row\n",
    "\n",
    "#APACHE_ACCESS_LOG_PATTERN = '^(\\S+) (\\S+) (\\S+) \\[([\\w:/]+\\s[+\\-]\\d{4})\\] \"(\\S+)? ?(\\S+)? ?(\\S+)?\" (\\d{3}) ([\\d-]+) ?\"?([^\"]+)?\"? ?\"?([^\"]+)?\"?'\n",
    "APACHE_ACCESS_LOG_PATTERN = '^(\\S+) (\\S+) (\\S+) \\[([\\w:/]+\\s[+\\-]\\d{4})\\] '\n",
    "pattern = re.compile(APACHE_ACCESS_LOG_PATTERN)\n",
    "\n",
    "def apache_access_log_parse(line):\n",
    "    row = None\n",
    "\n",
    "    try:\n",
    "        m = pattern.match(line)\n",
    "\n",
    "        time = m.group(4)\n",
    "        time = parser.parse(time.replace(':', ' ', 1))\n",
    "\n",
    "        #date = time.strftime('%Y%m%d')\n",
    "\n",
    "        #size = m.group(9)\n",
    "        #if size == '-': size = 0\n",
    "        #else: size = long(size)\n",
    "\n",
    "        row = Row(#host     = m.group(1),\n",
    "                  #identity = m.group(2),\n",
    "                  #user     = m.group(3),\n",
    "                  time     = time)\n",
    "                  #method   = m.group(5),\n",
    "                  #url      = m.group(6),\n",
    "                  #protocol = m.group(7),\n",
    "                  #status   = m.group(8),\n",
    "                  #size     = size,\n",
    "                  #referer  = m.group(10),\n",
    "                  #agent    = m.group(11),\n",
    "                  #date     = date)\n",
    "    except:\n",
    "        print \"apache access log parsing error : \", line\n",
    "\n",
    "    return row"
   ]
  },
  {
   "cell_type": "markdown",
   "metadata": {},
   "source": [
    "Loading data"
   ]
  },
  {
   "cell_type": "code",
   "execution_count": 5,
   "metadata": {},
   "outputs": [],
   "source": [
    "LOG_FILE_PATH = 'hdfs://node-201:9000/data/weblog/2015-1m'\n",
    "rdd = sc.textFile(LOG_FILE_PATH) \\\n",
    "        .map(apache_access_log_parse) \\\n",
    "        .filter(lambda x: x is not None)\n",
    "df = spark.createDataFrame(rdd)"
   ]
  },
  {
   "cell_type": "markdown",
   "metadata": {},
   "source": [
    "데이터 확인"
   ]
  },
  {
   "cell_type": "code",
   "execution_count": 6,
   "metadata": {
    "scrolled": true
   },
   "outputs": [
    {
     "name": "stdout",
     "output_type": "stream",
     "text": [
      "+-------------------+\n",
      "|time               |\n",
      "+-------------------+\n",
      "|2015-12-11 05:30:01|\n",
      "|2015-12-11 05:30:01|\n",
      "|2015-12-11 05:30:01|\n",
      "|2015-12-11 05:30:01|\n",
      "|2015-12-11 05:30:01|\n",
      "|2015-12-11 05:30:01|\n",
      "|2015-12-11 05:30:01|\n",
      "|2015-12-11 05:30:01|\n",
      "|2015-12-11 05:30:01|\n",
      "|2015-12-11 05:30:01|\n",
      "+-------------------+\n",
      "only showing top 10 rows\n",
      "\n"
     ]
    }
   ],
   "source": [
    "df.show(10, False)"
   ]
  },
  {
   "cell_type": "markdown",
   "metadata": {},
   "source": [
    "### 요청 건수의 변화"
   ]
  },
  {
   "cell_type": "markdown",
   "metadata": {},
   "source": [
    "데이터 전처리"
   ]
  },
  {
   "cell_type": "code",
   "execution_count": 7,
   "metadata": {
    "collapsed": true
   },
   "outputs": [],
   "source": [
    "#from pyspark.sql.functions import *\n",
    "#col = unix_timestamp(df['time'], '%Y%m%d %H%M%S')#.cast('timestamp')\n",
    "#request_cnt_df = df.withColumn('time', col).groupby('time').count().sort('time')\n",
    "request_cnt_df = df.groupby('time').count().sort('time')\n",
    "request_cnt_pdf = request_cnt_df.toPandas()\n",
    "request_cnt_pdf = request_cnt_pdf.set_index('time')"
   ]
  },
  {
   "cell_type": "code",
   "execution_count": null,
   "metadata": {
    "collapsed": true
   },
   "outputs": [],
   "source": [
    "#request_cnt_pdf = pd.read_pickle('request_cnt.pkl')\n",
    "#request_cnt_pdf.to_pickle('request_cnt.pkl')"
   ]
  },
  {
   "cell_type": "markdown",
   "metadata": {},
   "source": [
    "데이터 확인"
   ]
  },
  {
   "cell_type": "code",
   "execution_count": 8,
   "metadata": {
    "scrolled": false
   },
   "outputs": [
    {
     "name": "stdout",
     "output_type": "stream",
     "text": [
      "count    20345.000000\n",
      "mean        49.152077\n",
      "std         29.025664\n",
      "min          4.000000\n",
      "25%         27.000000\n",
      "50%         42.000000\n",
      "75%         64.000000\n",
      "max        236.000000\n",
      "Name: count, dtype: float64\n"
     ]
    },
    {
     "data": {
      "text/html": [
       "<div>\n",
       "<style>\n",
       "    .dataframe thead tr:only-child th {\n",
       "        text-align: right;\n",
       "    }\n",
       "\n",
       "    .dataframe thead th {\n",
       "        text-align: left;\n",
       "    }\n",
       "\n",
       "    .dataframe tbody tr th {\n",
       "        vertical-align: top;\n",
       "    }\n",
       "</style>\n",
       "<table border=\"1\" class=\"dataframe\">\n",
       "  <thead>\n",
       "    <tr style=\"text-align: right;\">\n",
       "      <th></th>\n",
       "      <th>count</th>\n",
       "    </tr>\n",
       "    <tr>\n",
       "      <th>time</th>\n",
       "      <th></th>\n",
       "    </tr>\n",
       "  </thead>\n",
       "  <tbody>\n",
       "    <tr>\n",
       "      <th>2015-12-11 05:30:01</th>\n",
       "      <td>30</td>\n",
       "    </tr>\n",
       "    <tr>\n",
       "      <th>2015-12-11 05:30:02</th>\n",
       "      <td>32</td>\n",
       "    </tr>\n",
       "    <tr>\n",
       "      <th>2015-12-11 05:30:03</th>\n",
       "      <td>81</td>\n",
       "    </tr>\n",
       "    <tr>\n",
       "      <th>2015-12-11 05:30:04</th>\n",
       "      <td>68</td>\n",
       "    </tr>\n",
       "    <tr>\n",
       "      <th>2015-12-11 05:30:05</th>\n",
       "      <td>53</td>\n",
       "    </tr>\n",
       "    <tr>\n",
       "      <th>2015-12-11 05:30:06</th>\n",
       "      <td>46</td>\n",
       "    </tr>\n",
       "    <tr>\n",
       "      <th>2015-12-11 05:30:07</th>\n",
       "      <td>31</td>\n",
       "    </tr>\n",
       "    <tr>\n",
       "      <th>2015-12-11 05:30:08</th>\n",
       "      <td>27</td>\n",
       "    </tr>\n",
       "    <tr>\n",
       "      <th>2015-12-11 05:30:09</th>\n",
       "      <td>58</td>\n",
       "    </tr>\n",
       "    <tr>\n",
       "      <th>2015-12-11 05:30:10</th>\n",
       "      <td>19</td>\n",
       "    </tr>\n",
       "  </tbody>\n",
       "</table>\n",
       "</div>"
      ],
      "text/plain": [
       "                     count\n",
       "time                      \n",
       "2015-12-11 05:30:01     30\n",
       "2015-12-11 05:30:02     32\n",
       "2015-12-11 05:30:03     81\n",
       "2015-12-11 05:30:04     68\n",
       "2015-12-11 05:30:05     53\n",
       "2015-12-11 05:30:06     46\n",
       "2015-12-11 05:30:07     31\n",
       "2015-12-11 05:30:08     27\n",
       "2015-12-11 05:30:09     58\n",
       "2015-12-11 05:30:10     19"
      ]
     },
     "execution_count": 8,
     "metadata": {},
     "output_type": "execute_result"
    }
   ],
   "source": [
    "print request_cnt_pdf['count'].describe()\n",
    "request_cnt_pdf.head(10)"
   ]
  },
  {
   "cell_type": "markdown",
   "metadata": {},
   "source": [
    "데이터 시각화"
   ]
  },
  {
   "cell_type": "code",
   "execution_count": 9,
   "metadata": {
    "scrolled": true
   },
   "outputs": [
    {
     "data": {
      "text/plain": [
       "<matplotlib.legend.Legend at 0x7fb560737650>"
      ]
     },
     "execution_count": 9,
     "metadata": {},
     "output_type": "execute_result"
    },
    {
     "data": {
      "image/png": "[encoded data removed]",
      "text/plain": [
       "<matplotlib.figure.Figure at 0x7fb57e13ad10>"
      ]
     },
     "metadata": {},
     "output_type": "display_data"
    }
   ],
   "source": [
    "request_cnt_pdf = request_cnt_pdf[:200]\n",
    "\n",
    "mean = request_cnt_pdf['count'].mean()\n",
    "stdev = request_cnt_pdf['count'].std()\n",
    "\n",
    "major_xticks = np.arange(0, request_cnt_pdf['count'].count(), 20)\n",
    "minor_xticks = np.arange(0, request_cnt_pdf['count'].count(), 5)\n",
    "major_yticks = np.arange(0, request_cnt_pdf['count'].max(), 10)\n",
    "minor_yticks = np.arange(0, request_cnt_pdf['count'].max(), 5)\n",
    "\n",
    "ax = request_cnt_pdf.plot(figsize=(20,6), kind='bar', grid=True, rot=15)\n",
    "plt.axhline(y=mean, linewidth=2, color='black', label='mean')\n",
    "plt.axhline(y=mean+(3*stdev), linewidth=2, color='red', linestyle='dashed', label='mean + ( 3 * stdev )')\n",
    "\n",
    "ax.set_xlabel('Time')\n",
    "ax.set_ylabel('Count')\n",
    "ax.set_xticklabels(request_cnt_pdf.index[0:request_cnt_pdf['count'].count():20])\n",
    "ax.set_xticks(major_xticks)\n",
    "ax.set_xticks(minor_xticks, minor=True)\n",
    "ax.set_yticks(major_yticks)\n",
    "ax.set_yticks(minor_yticks, minor=True)\n",
    "\n",
    "plt.legend(loc=\"best\")\n"
   ]
  },
  {
   "cell_type": "markdown",
   "metadata": {},
   "source": [
    "### TODO : 윈도우 적용.\n",
    "### TODO : 최적화. (윈도우 크기, 해상도, threshold 크기)\n",
    "### TODO : 탐지 결과 보여주기.\n",
    "### TODO : 평가.\n"
   ]
  },
  {
   "cell_type": "code",
   "execution_count": null,
   "metadata": {
    "collapsed": true
   },
   "outputs": [],
   "source": []
  },
  {
   "cell_type": "markdown",
   "metadata": {},
   "source": [
    "### 클라이언트 수의 변화"
   ]
  },
  {
   "cell_type": "code",
   "execution_count": null,
   "metadata": {
    "collapsed": true
   },
   "outputs": [],
   "source": []
  },
  {
   "cell_type": "markdown",
   "metadata": {},
   "source": [
    "### 응답 크기의 변화"
   ]
  },
  {
   "cell_type": "code",
   "execution_count": null,
   "metadata": {
    "collapsed": true
   },
   "outputs": [],
   "source": []
  },
  {
   "cell_type": "markdown",
   "metadata": {},
   "source": [
    "예전 코드"
   ]
  },
  {
   "cell_type": "code",
   "execution_count": null,
   "metadata": {
    "collapsed": true
   },
   "outputs": [],
   "source": [
    "pdf['size'].plot()"
   ]
  },
  {
   "cell_type": "code",
   "execution_count": null,
   "metadata": {
    "collapsed": true
   },
   "outputs": [],
   "source": [
    "pdf['size'].hist()"
   ]
  },
  {
   "cell_type": "code",
   "execution_count": null,
   "metadata": {
    "collapsed": true
   },
   "outputs": [],
   "source": [
    "pdf['status'].hist()"
   ]
  },
  {
   "cell_type": "code",
   "execution_count": null,
   "metadata": {
    "collapsed": true
   },
   "outputs": [],
   "source": [
    "pdf.groupby('host')"
   ]
  }
 ],
 "metadata": {
  "kernelspec": {
   "display_name": "Python 2",
   "language": "python",
   "name": "python2"
  },
  "language_info": {
   "codemirror_mode": {
    "name": "ipython",
    "version": 2
   },
   "file_extension": ".py",
   "mimetype": "text/x-python",
   "name": "python",
   "nbconvert_exporter": "python",
   "pygments_lexer": "ipython2",
   "version": "2.7.14"
  }
 },
 "nbformat": 4,
 "nbformat_minor": 2
}

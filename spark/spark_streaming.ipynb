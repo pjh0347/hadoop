{
 "cells": [
  {
   "cell_type": "markdown",
   "metadata": {},
   "source": [
    "# Spark Streaming\n",
    "\n",
    "- Use Cases\n",
    "  - Notifications and alerting\n",
    "  - Real-time reporting\n",
    "  - Incremental ETL\n",
    "  - Update data to serve in real time\n",
    "  - Real-time decision making\n",
    "  - Online machine learning\n",
    "- Challenges of Stream Processing\n",
    "  - Processing out-of-order data based on event time\n",
    "  - Maintaining large amounts of state\n",
    "  - Supporting high-data throughput\n",
    "  - Processing each event exactly once despite machine failures\n",
    "  - Handling load imbalance and stragglers\n",
    "  - Responding to events at low latency\n",
    "  - Joining with external data in other storage systems\n",
    "  - Determining how to update output sinks as new events arrive\n",
    "  - Writing data transactionally to output systems\n",
    "  - Updating your application’s business logic at runtime\n",
    "- Stream Processing Design Points\n",
    "  - Record-at-a-Time Versus Declarative APIs\n",
    "  - Event Time Versus Processing Time\n",
    "  - Continuous Versus Micro-Batch Execution\n",
    "- Spark’s Streaming APIs\n",
    "  - DStream API (processing Time)\n",
    "  - Structured Streaming API (event time)\n",
    "    - Micro-Batch Execution (2.2~, default)\n",
    "    - Continuous Execution (2.3~, optional)\n"
   ]
  },
  {
   "cell_type": "markdown",
   "metadata": {},
   "source": [
    "## Import modules"
   ]
  },
  {
   "cell_type": "code",
   "execution_count": 1,
   "metadata": {},
   "outputs": [],
   "source": [
    "from pyspark.sql import SparkSession\n",
    "from pyspark.sql import functions as F\n",
    "import apache_access_log"
   ]
  },
  {
   "cell_type": "markdown",
   "metadata": {},
   "source": [
    "## Session"
   ]
  },
  {
   "cell_type": "code",
   "execution_count": 2,
   "metadata": {
    "scrolled": true
   },
   "outputs": [],
   "source": [
    "spark = SparkSession.builder \\\n",
    "                    .master(\"local[4]\") \\\n",
    "                    .appName(\"spark streaming tutorial\") \\\n",
    "                    .config(\"spark.executor.memory\", \"1g\") \\\n",
    "                    .getOrCreate()"
   ]
  },
  {
   "cell_type": "code",
   "execution_count": 3,
   "metadata": {},
   "outputs": [],
   "source": [
    "spark.conf.set(\"spark.sql.shuffle.partitions\", \"4\")"
   ]
  },
  {
   "cell_type": "markdown",
   "metadata": {},
   "source": [
    "## Batch Example"
   ]
  },
  {
   "cell_type": "code",
   "execution_count": 4,
   "metadata": {},
   "outputs": [],
   "source": [
    "df = spark.read.format(\"csv\")\\\n",
    "  .option(\"header\", \"true\")\\\n",
    "  .option(\"inferSchema\", \"true\")\\\n",
    "  .load(\"retail-data/by-day/*.csv\")"
   ]
  },
  {
   "cell_type": "code",
   "execution_count": 5,
   "metadata": {},
   "outputs": [
    {
     "data": {
      "text/html": [
       "<div>\n",
       "<style scoped>\n",
       "    .dataframe tbody tr th:only-of-type {\n",
       "        vertical-align: middle;\n",
       "    }\n",
       "\n",
       "    .dataframe tbody tr th {\n",
       "        vertical-align: top;\n",
       "    }\n",
       "\n",
       "    .dataframe thead th {\n",
       "        text-align: right;\n",
       "    }\n",
       "</style>\n",
       "<table border=\"1\" class=\"dataframe\">\n",
       "  <thead>\n",
       "    <tr style=\"text-align: right;\">\n",
       "      <th></th>\n",
       "      <th>CustomerId</th>\n",
       "      <th>window</th>\n",
       "      <th>sum(total_cost)</th>\n",
       "    </tr>\n",
       "  </thead>\n",
       "  <tbody>\n",
       "    <tr>\n",
       "      <th>0</th>\n",
       "      <td>17450.0</td>\n",
       "      <td>(2011-09-20 00:00:00, 2011-09-21 00:00:00)</td>\n",
       "      <td>71601.44</td>\n",
       "    </tr>\n",
       "    <tr>\n",
       "      <th>1</th>\n",
       "      <td>NaN</td>\n",
       "      <td>(2011-11-14 00:00:00, 2011-11-15 00:00:00)</td>\n",
       "      <td>55316.08</td>\n",
       "    </tr>\n",
       "    <tr>\n",
       "      <th>2</th>\n",
       "      <td>NaN</td>\n",
       "      <td>(2011-11-07 00:00:00, 2011-11-08 00:00:00)</td>\n",
       "      <td>42939.17</td>\n",
       "    </tr>\n",
       "    <tr>\n",
       "      <th>3</th>\n",
       "      <td>NaN</td>\n",
       "      <td>(2011-03-29 00:00:00, 2011-03-30 00:00:00)</td>\n",
       "      <td>33521.40</td>\n",
       "    </tr>\n",
       "    <tr>\n",
       "      <th>4</th>\n",
       "      <td>NaN</td>\n",
       "      <td>(2011-12-08 00:00:00, 2011-12-09 00:00:00)</td>\n",
       "      <td>31975.59</td>\n",
       "    </tr>\n",
       "    <tr>\n",
       "      <th>5</th>\n",
       "      <td>18102.0</td>\n",
       "      <td>(2011-09-15 00:00:00, 2011-09-16 00:00:00)</td>\n",
       "      <td>31661.54</td>\n",
       "    </tr>\n",
       "    <tr>\n",
       "      <th>6</th>\n",
       "      <td>NaN</td>\n",
       "      <td>(2010-12-21 00:00:00, 2010-12-22 00:00:00)</td>\n",
       "      <td>31347.48</td>\n",
       "    </tr>\n",
       "    <tr>\n",
       "      <th>7</th>\n",
       "      <td>18102.0</td>\n",
       "      <td>(2011-10-21 00:00:00, 2011-10-22 00:00:00)</td>\n",
       "      <td>29693.82</td>\n",
       "    </tr>\n",
       "    <tr>\n",
       "      <th>8</th>\n",
       "      <td>18102.0</td>\n",
       "      <td>(2010-12-07 00:00:00, 2010-12-08 00:00:00)</td>\n",
       "      <td>25920.37</td>\n",
       "    </tr>\n",
       "    <tr>\n",
       "      <th>9</th>\n",
       "      <td>14646.0</td>\n",
       "      <td>(2011-10-20 00:00:00, 2011-10-21 00:00:00)</td>\n",
       "      <td>25833.56</td>\n",
       "    </tr>\n",
       "  </tbody>\n",
       "</table>\n",
       "</div>"
      ],
      "text/plain": [
       "   CustomerId                                      window  sum(total_cost)\n",
       "0     17450.0  (2011-09-20 00:00:00, 2011-09-21 00:00:00)         71601.44\n",
       "1         NaN  (2011-11-14 00:00:00, 2011-11-15 00:00:00)         55316.08\n",
       "2         NaN  (2011-11-07 00:00:00, 2011-11-08 00:00:00)         42939.17\n",
       "3         NaN  (2011-03-29 00:00:00, 2011-03-30 00:00:00)         33521.40\n",
       "4         NaN  (2011-12-08 00:00:00, 2011-12-09 00:00:00)         31975.59\n",
       "5     18102.0  (2011-09-15 00:00:00, 2011-09-16 00:00:00)         31661.54\n",
       "6         NaN  (2010-12-21 00:00:00, 2010-12-22 00:00:00)         31347.48\n",
       "7     18102.0  (2011-10-21 00:00:00, 2011-10-22 00:00:00)         29693.82\n",
       "8     18102.0  (2010-12-07 00:00:00, 2010-12-08 00:00:00)         25920.37\n",
       "9     14646.0  (2011-10-20 00:00:00, 2011-10-21 00:00:00)         25833.56"
      ]
     },
     "execution_count": 5,
     "metadata": {},
     "output_type": "execute_result"
    }
   ],
   "source": [
    "df\\\n",
    "  .selectExpr(\n",
    "    \"CustomerId\",\n",
    "    \"(UnitPrice * Quantity) as total_cost\",\n",
    "    \"InvoiceDate\")\\\n",
    "  .groupBy(\n",
    "    F.col(\"CustomerId\"), F.window(F.col(\"InvoiceDate\"), \"1 day\"))\\\n",
    "  .sum(\"total_cost\")\\\n",
    "  .sort(F.desc(\"sum(total_cost)\"))\\\n",
    "  .limit(10).toPandas()"
   ]
  },
  {
   "cell_type": "markdown",
   "metadata": {},
   "source": [
    "## Structured Streaming Example"
   ]
  },
  {
   "cell_type": "code",
   "execution_count": 6,
   "metadata": {},
   "outputs": [],
   "source": [
    "sdf = spark.readStream.format(\"csv\")\\\n",
    "    .option(\"header\", \"true\")\\\n",
    "    .schema(df.schema)\\\n",
    "    .option(\"maxFilesPerTrigger\", 1)\\\n",
    "    .load(\"retail-data/by-day/*.csv\")"
   ]
  },
  {
   "cell_type": "code",
   "execution_count": 7,
   "metadata": {},
   "outputs": [
    {
     "data": {
      "text/plain": [
       "True"
      ]
     },
     "execution_count": 7,
     "metadata": {},
     "output_type": "execute_result"
    }
   ],
   "source": [
    "sdf.isStreaming"
   ]
  },
  {
   "cell_type": "code",
   "execution_count": 8,
   "metadata": {},
   "outputs": [],
   "source": [
    "purchaseByCustomerPerDay = sdf\\\n",
    "  .selectExpr(\n",
    "    \"CustomerId\",\n",
    "    \"(UnitPrice * Quantity) as total_cost\",\n",
    "    \"InvoiceDate\")\\\n",
    "  .groupBy(\n",
    "    F.col(\"CustomerId\"), F.window(F.col(\"InvoiceDate\"), \"1 day\"))\\\n",
    "  .sum(\"total_cost\")"
   ]
  },
  {
   "cell_type": "code",
   "execution_count": 9,
   "metadata": {},
   "outputs": [],
   "source": [
    "streamingQuery = purchaseByCustomerPerDay.writeStream \\\n",
    "    .format(\"memory\") \\\n",
    "    .queryName(\"customer_purchases\") \\\n",
    "    .outputMode(\"complete\")\n",
    "\n",
    "# memory = store in-memory table (for testing only in Spark 2.0)\n",
    "# counts = name of the in-memory table\n",
    "# complete = all the counts should be in the table"
   ]
  },
  {
   "cell_type": "code",
   "execution_count": 10,
   "metadata": {},
   "outputs": [],
   "source": [
    "query = streamingQuery.start()          # start the query"
   ]
  },
  {
   "cell_type": "code",
   "execution_count": 11,
   "metadata": {},
   "outputs": [
    {
     "name": "stdout",
     "output_type": "stream",
     "text": [
      "e1cb64fd-3aae-441e-a54b-ba550c09d817\n"
     ]
    }
   ],
   "source": [
    "print query.id                          # get the unique identifier of the running query that persists across restarts from checkpoint data"
   ]
  },
  {
   "cell_type": "code",
   "execution_count": 12,
   "metadata": {},
   "outputs": [
    {
     "name": "stdout",
     "output_type": "stream",
     "text": [
      "7edfaa6d-10b6-415e-b247-96a0a911dee9\n"
     ]
    }
   ],
   "source": [
    "print query.runId                       # get the unique id of this run of the query, which will be generated at every start/restart"
   ]
  },
  {
   "cell_type": "code",
   "execution_count": 13,
   "metadata": {},
   "outputs": [
    {
     "name": "stdout",
     "output_type": "stream",
     "text": [
      "customer_purchases\n"
     ]
    }
   ],
   "source": [
    "print query.name                        # get the name of the auto-generated or user-specified name"
   ]
  },
  {
   "cell_type": "code",
   "execution_count": 14,
   "metadata": {},
   "outputs": [
    {
     "name": "stdout",
     "output_type": "stream",
     "text": [
      "No physical plan. Waiting for data.\n"
     ]
    }
   ],
   "source": [
    "query.explain()                         # print detailed explanations of the query"
   ]
  },
  {
   "cell_type": "code",
   "execution_count": 15,
   "metadata": {},
   "outputs": [],
   "source": [
    "import time\n",
    "time.sleep(10)"
   ]
  },
  {
   "cell_type": "code",
   "execution_count": 16,
   "metadata": {
    "scrolled": false
   },
   "outputs": [
    {
     "name": "stdout",
     "output_type": "stream",
     "text": [
      "{u'batchId': 1,\n",
      " u'durationMs': {u'addBatch': 809,\n",
      "                 u'getBatch': 62,\n",
      "                 u'getOffset': 2788,\n",
      "                 u'queryPlanning': 49,\n",
      "                 u'triggerExecution': 3770,\n",
      "                 u'walCommit': 34},\n",
      " u'id': u'e1cb64fd-3aae-441e-a54b-ba550c09d817',\n",
      " u'inputRowsPerSecond': 390.8782510365624,\n",
      " u'name': u'customer_purchases',\n",
      " u'numInputRows': 2074,\n",
      " u'processedRowsPerSecond': 550.132625994695,\n",
      " u'runId': u'7edfaa6d-10b6-415e-b247-96a0a911dee9',\n",
      " u'sink': {u'description': u'MemorySink'},\n",
      " u'sources': [{u'description': u'FileStreamSource[file:/opt/work/retail-data/by-day/*.csv]',\n",
      "               u'endOffset': {u'logOffset': 1},\n",
      "               u'inputRowsPerSecond': 390.8782510365624,\n",
      "               u'numInputRows': 2074,\n",
      "               u'processedRowsPerSecond': 550.132625994695,\n",
      "               u'startOffset': {u'logOffset': 0}}],\n",
      " u'stateOperators': [{u'customMetrics': {u'loadedMapCacheHitCount': 8,\n",
      "                                         u'loadedMapCacheMissCount': 0,\n",
      "                                         u'stateOnCurrentVersionSizeBytes': 30043},\n",
      "                      u'memoryUsedBytes': 33723,\n",
      "                      u'numRowsTotal': 138,\n",
      "                      u'numRowsUpdated': 75}],\n",
      " u'timestamp': u'2019-08-27T12:45:27.812Z'}\n",
      "[{u'batchId': 0,\n",
      "  u'durationMs': {u'addBatch': 1321,\n",
      "                  u'getBatch': 158,\n",
      "                  u'getOffset': 3291,\n",
      "                  u'queryPlanning': 266,\n",
      "                  u'triggerExecution': 5267,\n",
      "                  u'walCommit': 96},\n",
      "  u'id': u'e1cb64fd-3aae-441e-a54b-ba550c09d817',\n",
      "  u'name': u'customer_purchases',\n",
      "  u'numInputRows': 1389,\n",
      "  u'processedRowsPerSecond': 263.66742596810934,\n",
      "  u'runId': u'7edfaa6d-10b6-415e-b247-96a0a911dee9',\n",
      "  u'sink': {u'description': u'MemorySink'},\n",
      "  u'sources': [{u'description': u'FileStreamSource[file:/opt/work/retail-data/by-day/*.csv]',\n",
      "                u'endOffset': {u'logOffset': 0},\n",
      "                u'numInputRows': 1389,\n",
      "                u'processedRowsPerSecond': 263.66742596810934,\n",
      "                u'startOffset': None}],\n",
      "  u'stateOperators': [{u'customMetrics': {u'loadedMapCacheHitCount': 0,\n",
      "                                          u'loadedMapCacheMissCount': 0,\n",
      "                                          u'stateOnCurrentVersionSizeBytes': 13867},\n",
      "                       u'memoryUsedBytes': 14443,\n",
      "                       u'numRowsTotal': 63,\n",
      "                       u'numRowsUpdated': 63}],\n",
      "  u'timestamp': u'2019-08-27T12:45:22.506Z'},\n",
      " {u'batchId': 1,\n",
      "  u'durationMs': {u'addBatch': 809,\n",
      "                  u'getBatch': 62,\n",
      "                  u'getOffset': 2788,\n",
      "                  u'queryPlanning': 49,\n",
      "                  u'triggerExecution': 3770,\n",
      "                  u'walCommit': 34},\n",
      "  u'id': u'e1cb64fd-3aae-441e-a54b-ba550c09d817',\n",
      "  u'inputRowsPerSecond': 390.8782510365624,\n",
      "  u'name': u'customer_purchases',\n",
      "  u'numInputRows': 2074,\n",
      "  u'processedRowsPerSecond': 550.132625994695,\n",
      "  u'runId': u'7edfaa6d-10b6-415e-b247-96a0a911dee9',\n",
      "  u'sink': {u'description': u'MemorySink'},\n",
      "  u'sources': [{u'description': u'FileStreamSource[file:/opt/work/retail-data/by-day/*.csv]',\n",
      "                u'endOffset': {u'logOffset': 1},\n",
      "                u'inputRowsPerSecond': 390.8782510365624,\n",
      "                u'numInputRows': 2074,\n",
      "                u'processedRowsPerSecond': 550.132625994695,\n",
      "                u'startOffset': {u'logOffset': 0}}],\n",
      "  u'stateOperators': [{u'customMetrics': {u'loadedMapCacheHitCount': 8,\n",
      "                                          u'loadedMapCacheMissCount': 0,\n",
      "                                          u'stateOnCurrentVersionSizeBytes': 30043},\n",
      "                       u'memoryUsedBytes': 33723,\n",
      "                       u'numRowsTotal': 138,\n",
      "                       u'numRowsUpdated': 75}],\n",
      "  u'timestamp': u'2019-08-27T12:45:27.812Z'}]\n"
     ]
    }
   ],
   "source": [
    "import pprint\n",
    "pprint.pprint(query.lastProgress)       # the most recent progress update of this streaming query\n",
    "pprint.pprint(query.recentProgress) # an array of the most recent progress updates for this query"
   ]
  },
  {
   "cell_type": "code",
   "execution_count": 17,
   "metadata": {
    "scrolled": true
   },
   "outputs": [
    {
     "data": {
      "text/html": [
       "<div>\n",
       "<style scoped>\n",
       "    .dataframe tbody tr th:only-of-type {\n",
       "        vertical-align: middle;\n",
       "    }\n",
       "\n",
       "    .dataframe tbody tr th {\n",
       "        vertical-align: top;\n",
       "    }\n",
       "\n",
       "    .dataframe thead th {\n",
       "        text-align: right;\n",
       "    }\n",
       "</style>\n",
       "<table border=\"1\" class=\"dataframe\">\n",
       "  <thead>\n",
       "    <tr style=\"text-align: right;\">\n",
       "      <th></th>\n",
       "      <th>CustomerId</th>\n",
       "      <th>window</th>\n",
       "      <th>sum(total_cost)</th>\n",
       "    </tr>\n",
       "  </thead>\n",
       "  <tbody>\n",
       "    <tr>\n",
       "      <th>0</th>\n",
       "      <td>12415.0</td>\n",
       "      <td>(2011-03-03 00:00:00, 2011-03-04 00:00:00)</td>\n",
       "      <td>16558.14</td>\n",
       "    </tr>\n",
       "    <tr>\n",
       "      <th>1</th>\n",
       "      <td>15769.0</td>\n",
       "      <td>(2011-03-17 00:00:00, 2011-03-18 00:00:00)</td>\n",
       "      <td>10065.00</td>\n",
       "    </tr>\n",
       "    <tr>\n",
       "      <th>2</th>\n",
       "      <td>NaN</td>\n",
       "      <td>(2011-03-17 00:00:00, 2011-03-18 00:00:00)</td>\n",
       "      <td>7876.00</td>\n",
       "    </tr>\n",
       "    <tr>\n",
       "      <th>3</th>\n",
       "      <td>12435.0</td>\n",
       "      <td>(2011-03-17 00:00:00, 2011-03-18 00:00:00)</td>\n",
       "      <td>3978.99</td>\n",
       "    </tr>\n",
       "    <tr>\n",
       "      <th>4</th>\n",
       "      <td>NaN</td>\n",
       "      <td>(2011-03-03 00:00:00, 2011-03-04 00:00:00)</td>\n",
       "      <td>3538.75</td>\n",
       "    </tr>\n",
       "    <tr>\n",
       "      <th>5</th>\n",
       "      <td>17416.0</td>\n",
       "      <td>(2011-03-03 00:00:00, 2011-03-04 00:00:00)</td>\n",
       "      <td>2114.71</td>\n",
       "    </tr>\n",
       "    <tr>\n",
       "      <th>6</th>\n",
       "      <td>18102.0</td>\n",
       "      <td>(2011-03-03 00:00:00, 2011-03-04 00:00:00)</td>\n",
       "      <td>1396.00</td>\n",
       "    </tr>\n",
       "    <tr>\n",
       "      <th>7</th>\n",
       "      <td>16709.0</td>\n",
       "      <td>(2011-03-03 00:00:00, 2011-03-04 00:00:00)</td>\n",
       "      <td>1120.53</td>\n",
       "    </tr>\n",
       "    <tr>\n",
       "      <th>8</th>\n",
       "      <td>12514.0</td>\n",
       "      <td>(2011-03-17 00:00:00, 2011-03-18 00:00:00)</td>\n",
       "      <td>1017.68</td>\n",
       "    </tr>\n",
       "    <tr>\n",
       "      <th>9</th>\n",
       "      <td>14298.0</td>\n",
       "      <td>(2011-03-17 00:00:00, 2011-03-18 00:00:00)</td>\n",
       "      <td>1004.60</td>\n",
       "    </tr>\n",
       "  </tbody>\n",
       "</table>\n",
       "</div>"
      ],
      "text/plain": [
       "   CustomerId                                      window  sum(total_cost)\n",
       "0     12415.0  (2011-03-03 00:00:00, 2011-03-04 00:00:00)         16558.14\n",
       "1     15769.0  (2011-03-17 00:00:00, 2011-03-18 00:00:00)         10065.00\n",
       "2         NaN  (2011-03-17 00:00:00, 2011-03-18 00:00:00)          7876.00\n",
       "3     12435.0  (2011-03-17 00:00:00, 2011-03-18 00:00:00)          3978.99\n",
       "4         NaN  (2011-03-03 00:00:00, 2011-03-04 00:00:00)          3538.75\n",
       "5     17416.0  (2011-03-03 00:00:00, 2011-03-04 00:00:00)          2114.71\n",
       "6     18102.0  (2011-03-03 00:00:00, 2011-03-04 00:00:00)          1396.00\n",
       "7     16709.0  (2011-03-03 00:00:00, 2011-03-04 00:00:00)          1120.53\n",
       "8     12514.0  (2011-03-17 00:00:00, 2011-03-18 00:00:00)          1017.68\n",
       "9     14298.0  (2011-03-17 00:00:00, 2011-03-18 00:00:00)          1004.60"
      ]
     },
     "execution_count": 17,
     "metadata": {},
     "output_type": "execute_result"
    }
   ],
   "source": [
    "spark.sql(\"\"\"\n",
    "  SELECT *\n",
    "  FROM customer_purchases\n",
    "  ORDER BY `sum(total_cost)` DESC\n",
    "  \"\"\")\\\n",
    "  .limit(10).toPandas()"
   ]
  },
  {
   "cell_type": "code",
   "execution_count": 18,
   "metadata": {},
   "outputs": [],
   "source": [
    "time.sleep(10)"
   ]
  },
  {
   "cell_type": "code",
   "execution_count": 19,
   "metadata": {
    "scrolled": true
   },
   "outputs": [
    {
     "data": {
      "text/html": [
       "<div>\n",
       "<style scoped>\n",
       "    .dataframe tbody tr th:only-of-type {\n",
       "        vertical-align: middle;\n",
       "    }\n",
       "\n",
       "    .dataframe tbody tr th {\n",
       "        vertical-align: top;\n",
       "    }\n",
       "\n",
       "    .dataframe thead th {\n",
       "        text-align: right;\n",
       "    }\n",
       "</style>\n",
       "<table border=\"1\" class=\"dataframe\">\n",
       "  <thead>\n",
       "    <tr style=\"text-align: right;\">\n",
       "      <th></th>\n",
       "      <th>CustomerId</th>\n",
       "      <th>window</th>\n",
       "      <th>sum(total_cost)</th>\n",
       "    </tr>\n",
       "  </thead>\n",
       "  <tbody>\n",
       "    <tr>\n",
       "      <th>0</th>\n",
       "      <td>12415.0</td>\n",
       "      <td>(2011-03-03 00:00:00, 2011-03-04 00:00:00)</td>\n",
       "      <td>16558.14</td>\n",
       "    </tr>\n",
       "    <tr>\n",
       "      <th>1</th>\n",
       "      <td>15769.0</td>\n",
       "      <td>(2011-03-17 00:00:00, 2011-03-18 00:00:00)</td>\n",
       "      <td>10065.00</td>\n",
       "    </tr>\n",
       "    <tr>\n",
       "      <th>2</th>\n",
       "      <td>17450.0</td>\n",
       "      <td>(2011-11-03 00:00:00, 2011-11-04 00:00:00)</td>\n",
       "      <td>9069.82</td>\n",
       "    </tr>\n",
       "    <tr>\n",
       "      <th>3</th>\n",
       "      <td>NaN</td>\n",
       "      <td>(2011-03-17 00:00:00, 2011-03-18 00:00:00)</td>\n",
       "      <td>7876.00</td>\n",
       "    </tr>\n",
       "    <tr>\n",
       "      <th>4</th>\n",
       "      <td>17389.0</td>\n",
       "      <td>(2011-11-03 00:00:00, 2011-11-04 00:00:00)</td>\n",
       "      <td>7427.32</td>\n",
       "    </tr>\n",
       "    <tr>\n",
       "      <th>5</th>\n",
       "      <td>16333.0</td>\n",
       "      <td>(2011-11-03 00:00:00, 2011-11-04 00:00:00)</td>\n",
       "      <td>5727.00</td>\n",
       "    </tr>\n",
       "    <tr>\n",
       "      <th>6</th>\n",
       "      <td>16684.0</td>\n",
       "      <td>(2011-11-03 00:00:00, 2011-11-04 00:00:00)</td>\n",
       "      <td>5500.38</td>\n",
       "    </tr>\n",
       "    <tr>\n",
       "      <th>7</th>\n",
       "      <td>NaN</td>\n",
       "      <td>(2011-11-17 00:00:00, 2011-11-18 00:00:00)</td>\n",
       "      <td>5217.83</td>\n",
       "    </tr>\n",
       "    <tr>\n",
       "      <th>8</th>\n",
       "      <td>12753.0</td>\n",
       "      <td>(2011-11-17 00:00:00, 2011-11-18 00:00:00)</td>\n",
       "      <td>4808.48</td>\n",
       "    </tr>\n",
       "    <tr>\n",
       "      <th>9</th>\n",
       "      <td>12435.0</td>\n",
       "      <td>(2011-03-17 00:00:00, 2011-03-18 00:00:00)</td>\n",
       "      <td>3978.99</td>\n",
       "    </tr>\n",
       "  </tbody>\n",
       "</table>\n",
       "</div>"
      ],
      "text/plain": [
       "   CustomerId                                      window  sum(total_cost)\n",
       "0     12415.0  (2011-03-03 00:00:00, 2011-03-04 00:00:00)         16558.14\n",
       "1     15769.0  (2011-03-17 00:00:00, 2011-03-18 00:00:00)         10065.00\n",
       "2     17450.0  (2011-11-03 00:00:00, 2011-11-04 00:00:00)          9069.82\n",
       "3         NaN  (2011-03-17 00:00:00, 2011-03-18 00:00:00)          7876.00\n",
       "4     17389.0  (2011-11-03 00:00:00, 2011-11-04 00:00:00)          7427.32\n",
       "5     16333.0  (2011-11-03 00:00:00, 2011-11-04 00:00:00)          5727.00\n",
       "6     16684.0  (2011-11-03 00:00:00, 2011-11-04 00:00:00)          5500.38\n",
       "7         NaN  (2011-11-17 00:00:00, 2011-11-18 00:00:00)          5217.83\n",
       "8     12753.0  (2011-11-17 00:00:00, 2011-11-18 00:00:00)          4808.48\n",
       "9     12435.0  (2011-03-17 00:00:00, 2011-03-18 00:00:00)          3978.99"
      ]
     },
     "execution_count": 19,
     "metadata": {},
     "output_type": "execute_result"
    }
   ],
   "source": [
    "spark.sql(\"\"\"\n",
    "  SELECT *\n",
    "  FROM customer_purchases\n",
    "  ORDER BY `sum(total_cost)` DESC\n",
    "  \"\"\")\\\n",
    "  .limit(10).toPandas()"
   ]
  },
  {
   "cell_type": "code",
   "execution_count": 20,
   "metadata": {},
   "outputs": [],
   "source": [
    "query.stop()                            # stop the query"
   ]
  },
  {
   "cell_type": "code",
   "execution_count": 21,
   "metadata": {},
   "outputs": [],
   "source": [
    "query.awaitTermination()                # block until query is terminated, with stop() or with error"
   ]
  },
  {
   "cell_type": "code",
   "execution_count": 22,
   "metadata": {},
   "outputs": [],
   "source": [
    "query.exception()                       # the exception if the query has been terminated with error"
   ]
  },
  {
   "cell_type": "markdown",
   "metadata": {},
   "source": [
    "## Reference"
   ]
  },
  {
   "cell_type": "markdown",
   "metadata": {},
   "source": [
    "- https://spark.apache.org/\n",
    "- https://github.com/databricks/Spark-The-Definitive-Guide/tree/master/data/retail-data/by-day\n",
    "- Spark: The Definitive Guide"
   ]
  }
 ],
 "metadata": {
  "kernelspec": {
   "display_name": "Python 2",
   "language": "python",
   "name": "python2"
  },
  "language_info": {
   "codemirror_mode": {
    "name": "ipython",
    "version": 2
   },
   "file_extension": ".py",
   "mimetype": "text/x-python",
   "name": "python",
   "nbconvert_exporter": "python",
   "pygments_lexer": "ipython2",
   "version": "2.7.16"
  }
 },
 "nbformat": 4,
 "nbformat_minor": 2
}
